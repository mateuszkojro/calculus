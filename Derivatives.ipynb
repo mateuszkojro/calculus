{
 "cells": [
  {
   "cell_type": "code",
   "execution_count": 20,
   "id": "ca47c535",
   "metadata": {},
   "outputs": [],
   "source": [
    "from IPython.display import display, Math\n",
    "import sympy as sp"
   ]
  },
  {
   "cell_type": "markdown",
   "id": "8389918d",
   "metadata": {},
   "source": [
    "# Derivatives\n",
    "\n",
    "## What is a derivative\n",
    "\n",
    "Definition of an derivative of a function $f$ can be written as:\n",
    "\n",
    "$$\n",
    "\\frac{d}{dx}f(x) = \\lim_{h \\to 0} \\frac{f(x +h) - f(x)}{h}\n",
    "$$\n",
    "\n",
    "We can easly interpret that as an question\n",
    "\n",
    "> How much does the function $f$ change if the $x$ changes by the smaller and smaller amount $h$?\n",
    "\n",
    "so lets check that on a simple example:\n",
    "\n",
    "$$\n",
    "f(x) = x^2\n",
    "$$\n",
    "\n",
    "so we write:\n",
    "\n",
    "$$\n",
    "\\frac{d}{dx}x^2 = \\lim_{h \\to 0} \\frac{(x+h)^2- (x)^2}{h}\n",
    "$$\n",
    "\n",
    "we can expand the square:\n",
    "\n",
    "$$\n",
    "\\frac{d}{dx}x^2 = \\lim_{h \\to 0} \\frac{x^2+2xh+h^2 - x^2}{h}\n",
    "$$\n",
    "\n",
    "lets simplify ($x^2$ cancels out)\n",
    "\n",
    "$$\n",
    "\\frac{d}{dx}x^2 = \\lim_{h \\to 0} \\frac{ 2xh+h^2}{h}\n",
    "$$\n",
    "\n",
    "now we can ___ $h$ before the brackets\n",
    "\n",
    "$$\n",
    "\\frac{d}{dx}x^2 = \\lim_{h \\to 0} \\frac{ h(2x+h)}{h}\n",
    "$$\n",
    "\n",
    "$h$ can be cannceled out:\n",
    "\n",
    "$$\n",
    "\\frac{d}{dx}x^2 = \\lim_{h \\to 0} 2x+h\n",
    "$$\n",
    "\n",
    "as $h \\to 0$ we get the answer:\n",
    "\n",
    "$$\n",
    "\\frac{d}{dx}x^2 = 2x\n",
    "$$\n",
    "\n",
    "lets check that answer using `sympy`"
   ]
  },
  {
   "cell_type": "code",
   "execution_count": 25,
   "id": "4d87c357",
   "metadata": {},
   "outputs": [
    {
     "data": {
      "text/latex": [
       "$\\displaystyle \\frac{d}{dx}$"
      ],
      "text/plain": [
       "<IPython.core.display.Math object>"
      ]
     },
     "metadata": {},
     "output_type": "display_data"
    },
    {
     "data": {
      "text/latex": [
       "$\\displaystyle x^{2}$"
      ],
      "text/plain": [
       "x**2"
      ]
     },
     "metadata": {},
     "output_type": "display_data"
    },
    {
     "data": {
      "text/plain": [
       "'='"
      ]
     },
     "metadata": {},
     "output_type": "display_data"
    },
    {
     "data": {
      "text/latex": [
       "$\\displaystyle 2 x$"
      ],
      "text/plain": [
       "2*x"
      ]
     },
     "metadata": {},
     "output_type": "display_data"
    }
   ],
   "source": [
    "x = sp.symbols(\"x\") # We need to create a sympy symobol in order to perform operations\n",
    "function = x**2 # Lets define out function\n",
    "derivative = sp.diff(function) # Thats how we can calculate the derivative of a function using sympy\n",
    "display(Math(r\"\\frac{d}{dx}\"),function ,\"=\", derivative, )"
   ]
  },
  {
   "cell_type": "markdown",
   "id": "b89e7725",
   "metadata": {},
   "source": [
    "Lets plot our function and its derivative so we can observe some interesting facts"
   ]
  },
  {
   "cell_type": "code",
   "execution_count": 22,
   "id": "925ecee7",
   "metadata": {},
   "outputs": [
    {
     "data": {
      "image/png": "[encoded data removed]",
      "text/plain": [
       "<Figure size 432x288 with 1 Axes>"
      ]
     },
     "metadata": {
      "needs_background": "light"
     },
     "output_type": "display_data"
    },
    {
     "data": {
      "text/plain": [
       "<sympy.plotting.plot.Plot at 0x7f3f5e60ba30>"
      ]
     },
     "execution_count": 22,
     "metadata": {},
     "output_type": "execute_result"
    }
   ],
   "source": [
    "plot_range = (x,-5,5)\n",
    "sp.legend = True\n",
    "sp.plot((function, plot_range), (derivative, plot_range)) # We can plot our function and its derivative"
   ]
  },
  {
   "cell_type": "markdown",
   "id": "05d95f03",
   "metadata": {},
   "source": [
    "If we take a look at the derivative and the function next to each other we can observe few usefull fenomens\n",
    "\n",
    "The sign of the derivative depends on the slope of the function (as in the table below) \n",
    "\n",
    "| Derivative| Function is   |\n",
    "|  :---:    |:---:          |\n",
    "| $<0$      | Decreasing    |\n",
    "| $>0$      | Increasing    |\n",
    "| $=0$      | Constant(*)   |\n",
    "\n",
    "\n"
   ]
  },
  {
   "cell_type": "markdown",
   "id": "97709fe5",
   "metadata": {},
   "source": [
    "## Product rule\n",
    "\n",
    "$$\n",
    "F(x) = f(x)*g(x) \\\\\n",
    "\\frac{dF}{dx} = df g + dg \n",
    "$$\n",
    "\n",
    "## Chain rule\n",
    "\n",
    "## Implicit derivative\n"
   ]
  },
  {
   "cell_type": "code",
   "execution_count": null,
   "id": "816d441a",
   "metadata": {},
   "outputs": [],
   "source": []
  }
 ],
 "metadata": {
  "kernelspec": {
   "display_name": "Python 3",
   "language": "python",
   "name": "python3"
  },
  "language_info": {
   "codemirror_mode": {
    "name": "ipython",
    "version": 3
   },
   "file_extension": ".py",
   "mimetype": "text/x-python",
   "name": "python",
   "nbconvert_exporter": "python",
   "pygments_lexer": "ipython3",
   "version": "3.9.6"
  }
 },
 "nbformat": 4,
 "nbformat_minor": 5
}
