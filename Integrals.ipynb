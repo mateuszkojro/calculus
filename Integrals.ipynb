{
 "cells": [
  {
   "cell_type": "markdown",
   "id": "e8a0742e",
   "metadata": {},
   "source": [
    "# Integrals\n",
    "\n",
    "## What is an integral\n",
    "\n",
    "If $f$ is contignous =:\n",
    "\n",
    "$$\n",
    "F(x) = \\int_a^b f(t) dt\n",
    "$$\n",
    "Then by the first theorem of calculus:\n",
    "$$\n",
    "\\frac{d}{dx}F(x) = f(x) \\ \\text{,} \\ \\forall_{x \\in (a, b)} \n",
    "$$\n",
    "\n",
    "and by the second theorem of calculus:\n",
    "\n",
    "$$\n",
    "\\int_a^b f(x)dx = F(b) - F(a)\n",
    "$$\n",
    "\n",
    "we can than ask a question what happens if either $a$ or $b$ is going to $\\infinity$\n"
   ]
  },
  {
   "cell_type": "code",
   "execution_count": null,
   "id": "baf074db",
   "metadata": {},
   "outputs": [],
   "source": []
  }
 ],
 "metadata": {
  "kernelspec": {
   "display_name": "Python 3",
   "language": "python",
   "name": "python3"
  },
  "language_info": {
   "codemirror_mode": {
    "name": "ipython",
    "version": 3
   },
   "file_extension": ".py",
   "mimetype": "text/x-python",
   "name": "python",
   "nbconvert_exporter": "python",
   "pygments_lexer": "ipython3",
   "version": "3.9.6"
  }
 },
 "nbformat": 4,
 "nbformat_minor": 5
}
